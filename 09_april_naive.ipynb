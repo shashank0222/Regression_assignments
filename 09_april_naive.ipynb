{
 "cells": [
  {
   "cell_type": "markdown",
   "id": "988f4efa-3e09-450c-9941-2bdb716802a2",
   "metadata": {},
   "source": [
    "Q1. What is Bayes' theorem?"
   ]
  },
  {
   "cell_type": "markdown",
   "id": "db3dfc0c-eff2-47fa-bd06-79942a4d8c84",
   "metadata": {},
   "source": [
    "Solution :"
   ]
  },
  {
   "cell_type": "markdown",
   "id": "c581cba0-aacb-4cf2-8b47-73dbecddb171",
   "metadata": {},
   "source": [
    "Bayes’ theorem is a mathematical formula for determining conditional probability. It describes the probability of an event based on prior knowledge of conditions that might be related to the event. The theorem is named after Reverend Thomas Bayes who first formulated it in the 18th century.\n",
    "\n",
    "The formula for Bayes’ theorem is as follows:\n",
    "\n",
    "P(A|B) = P(B|A) * P(A) / P(B)\n",
    "\n",
    "where P(A|B) is the probability of A given B, P(B|A) is the probability of B given A, P(A) is the prior probability of A, and P(B) is the prior probability of B."
   ]
  },
  {
   "cell_type": "code",
   "execution_count": null,
   "id": "020d612c-a3a6-45ee-b658-c0b80d1be45e",
   "metadata": {},
   "outputs": [],
   "source": []
  },
  {
   "cell_type": "code",
   "execution_count": null,
   "id": "481018a9-0791-4d49-b401-0434795628e8",
   "metadata": {},
   "outputs": [],
   "source": []
  },
  {
   "cell_type": "markdown",
   "id": "dcf2a473-d42b-4643-afeb-1c9d193cc455",
   "metadata": {},
   "source": [
    "Q2. What is the formula for Bayes' theorem?"
   ]
  },
  {
   "cell_type": "markdown",
   "id": "a5363bae-947b-40a1-ac43-5921494e4116",
   "metadata": {},
   "source": [
    "Solution :"
   ]
  },
  {
   "cell_type": "markdown",
   "id": "c67b7b7d-6dd9-4617-9470-c26ef608a5a2",
   "metadata": {},
   "source": [
    "The formula for Bayes’ theorem is:\n",
    "\n",
    "P(A|B) = P(B|A) * P(A) / P(B)\n",
    "\n",
    "where P(A|B) is the probability of A given B, P(B|A) is the probability of B given A, P(A) is the prior probability of A, and P(B) is the prior probability of B."
   ]
  },
  {
   "cell_type": "code",
   "execution_count": null,
   "id": "c722ac6e-1af7-4e94-9438-b894c872512f",
   "metadata": {},
   "outputs": [],
   "source": []
  },
  {
   "cell_type": "code",
   "execution_count": null,
   "id": "92adf666-ed3d-47fd-8eac-26beaae555d8",
   "metadata": {},
   "outputs": [],
   "source": []
  },
  {
   "cell_type": "markdown",
   "id": "b4248924-b72f-4525-8dbc-55df7eabb378",
   "metadata": {},
   "source": [
    "Q3. How is Bayes' theorem used in practice?"
   ]
  },
  {
   "cell_type": "markdown",
   "id": "a0120d9d-9daf-4a3c-b756-ce8a83eb9f48",
   "metadata": {},
   "source": [
    "Solution :"
   ]
  },
  {
   "cell_type": "markdown",
   "id": "ec401557-9677-4c29-98d7-5c99fb9a4d9f",
   "metadata": {},
   "source": [
    "Bayes’ theorem has many applications in various fields such as medicine, science, philosophy, engineering, sports, law, finance, marketing and more.\n",
    "\n",
    "For example, Bayes’ theorem can be used to determine the accuracy of medical test results by taking into consideration how likely any given person is to have a disease and the general accuracy of the test. It can also be used in weather forecasting and in artificial intelligence."
   ]
  },
  {
   "cell_type": "code",
   "execution_count": null,
   "id": "6176dcd2-b128-4001-8acd-24a340347730",
   "metadata": {},
   "outputs": [],
   "source": []
  },
  {
   "cell_type": "code",
   "execution_count": null,
   "id": "aec83996-64f4-46f0-ab26-8e8827af03fd",
   "metadata": {},
   "outputs": [],
   "source": []
  },
  {
   "cell_type": "markdown",
   "id": "55e99124-21e1-4b1c-89a0-86847845c2d6",
   "metadata": {},
   "source": [
    "Q4. What is the relationship between Bayes' theorem and conditional probability?"
   ]
  },
  {
   "cell_type": "markdown",
   "id": "61c2c154-2ce3-4f5e-845e-3cc34e031ab5",
   "metadata": {},
   "source": [
    "Solution :"
   ]
  },
  {
   "cell_type": "markdown",
   "id": "02ed05b8-c71e-43d0-8ee2-f35dde927b2a",
   "metadata": {},
   "source": [
    "Bayes’ theorem is a formula for calculating conditional probability. It describes the probability of an event based on prior knowledge of conditions that might be related to the event.\n",
    "\n",
    "The formula for Bayes’ theorem involves conditional probability. Specifically, it involves the probability of A given B (P(A|B)), which is the probability of A occurring given that B has occurred."
   ]
  },
  {
   "cell_type": "code",
   "execution_count": null,
   "id": "32f0cb8c-d1e1-4d67-8e8b-bba2929cd58e",
   "metadata": {},
   "outputs": [],
   "source": []
  },
  {
   "cell_type": "code",
   "execution_count": null,
   "id": "4c49ddca-a0cc-49d4-b5f8-75b9c5710697",
   "metadata": {},
   "outputs": [],
   "source": []
  },
  {
   "cell_type": "markdown",
   "id": "00eefdd0-cd2e-4ddc-a3e9-0f0d0907766d",
   "metadata": {},
   "source": [
    "Q5. How do you choose which type of Naive Bayes classifier to use for any given problem?"
   ]
  },
  {
   "cell_type": "markdown",
   "id": "3226c167-3ef8-4dc5-adb7-bb5485bb7f8f",
   "metadata": {},
   "source": [
    "Solution :"
   ]
  },
  {
   "cell_type": "markdown",
   "id": "2b771e7a-a6d8-4312-a4e5-79001d2e3139",
   "metadata": {},
   "source": [
    "The choice of which type of Naive Bayes classifier to use for any given problem depends on the nature of the data and the problem being solved.\n",
    "\n",
    "There are three main types of Naive Bayes classifiers: Gaussian Naive Bayes, Multinomial Naive Bayes, and Bernoulli Naive Bayes.\n",
    "\n",
    "Gaussian Naive Bayes is used when the features are continuous. Multinomial Naive Bayes is used when the features are discrete and represent counts. Bernoulli Naive Bayes is used when the features are binary."
   ]
  },
  {
   "cell_type": "code",
   "execution_count": null,
   "id": "b89fd731-2fb8-463c-bba1-a3b3ff592b8f",
   "metadata": {},
   "outputs": [],
   "source": []
  },
  {
   "cell_type": "code",
   "execution_count": null,
   "id": "681385ab-bc94-4395-9b25-7305cd1c4679",
   "metadata": {},
   "outputs": [],
   "source": []
  },
  {
   "cell_type": "code",
   "execution_count": null,
   "id": "5ca00a4d-7544-4964-953f-e9a6ce100519",
   "metadata": {},
   "outputs": [],
   "source": []
  }
 ],
 "metadata": {
  "kernelspec": {
   "display_name": "Python 3 (ipykernel)",
   "language": "python",
   "name": "python3"
  },
  "language_info": {
   "codemirror_mode": {
    "name": "ipython",
    "version": 3
   },
   "file_extension": ".py",
   "mimetype": "text/x-python",
   "name": "python",
   "nbconvert_exporter": "python",
   "pygments_lexer": "ipython3",
   "version": "3.10.8"
  }
 },
 "nbformat": 4,
 "nbformat_minor": 5
}
