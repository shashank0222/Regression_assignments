{
 "cells": [
  {
   "cell_type": "markdown",
   "id": "9864afc9-8c06-440e-9d51-57945e7132b1",
   "metadata": {},
   "source": [
    "Q1. What are Eigenvalues and Eigenvectors? How are they related to the Eigen-Decomposition approach?\n",
    "Explain with an example."
   ]
  },
  {
   "cell_type": "markdown",
   "id": "2a1c44f9-a469-4c33-9018-a2cbefef729c",
   "metadata": {},
   "source": [
    "Solution :"
   ]
  },
  {
   "cell_type": "markdown",
   "id": "c2475b50-cd25-4567-b7f5-c2001c115078",
   "metadata": {},
   "source": [
    "Eigenvalues and eigenvectors are numbers and vectors associated with square matrices. The eigen-decomposition approach is a method of decomposing a matrix into a set of eigenvectors and eigenvalues. Eigenvectors and eigenvalues are also referred to as characteristic vectors and latent roots or characteristic equation. The eigen-decomposition of a covariance matrix gives the least square estimate of the original data matrix, and is used in principal component analysis.\n",
    "\n",
    "For example, let’s consider the following matrix A:\n",
    "\n",
    "A = [1 2]\n",
    "\n",
    "    [2 1]\n",
    "\n",
    "The eigenvalues λ1 and λ2 of A can be found by solving the characteristic equation det(A-λI) = 0 where I is the identity matrix:\n",
    "\n",
    "det(A-λI) = 0\n",
    "\n",
    "|1-λ 2|\n",
    "|2 1-λ|  = (1-λ)(1-λ)-4 = λ^2 - 2λ - 3 = (λ-3)(λ+1) = 0 \n",
    "\n",
    "Therefore, λ1=3 and λ2=-1. To find the eigenvectors corresponding to these eigenvalues, we solve the equation (A-λI)x=0:\n",
    "\n",
    "For λ1=3:\n",
    "\n",
    "A-λ1I = [-2 2]\n",
    "\n",
    "        [2 -2]\n",
    "        \n",
    "x=[x1 x2]T\n",
    "\n",
    "(-2)x1 + 2x2 = 0\n",
    "\n",
    "2x1 - 2x2 = 0\n",
    "\n",
    "x1=x2\n",
    "\n",
    "Therefore, the eigenvector corresponding to λ1=3 is [1 1]T.\n",
    "\n",
    "For λ2=-1: A-λ2I = [2 2] [2 2] x=[x1 x2]T (2)x1 + 2x2 = 0 2x1 + 2x2 = 0 x1=-x2\n",
    "\n",
    "Therefore, the eigenvector corresponding to λ2=-1 is [1 -1]T."
   ]
  },
  {
   "cell_type": "code",
   "execution_count": null,
   "id": "ba89c267-b4ec-4746-a54f-2a47dd12e955",
   "metadata": {},
   "outputs": [],
   "source": []
  },
  {
   "cell_type": "code",
   "execution_count": null,
   "id": "a62d930f-71ff-44e5-9d8c-f79aecb4ca2b",
   "metadata": {},
   "outputs": [],
   "source": []
  },
  {
   "cell_type": "markdown",
   "id": "b5710b49-06a2-4a0a-a1d5-da4d459571d6",
   "metadata": {},
   "source": [
    "Q2. What is eigen decomposition and what is its significance in linear algebra?"
   ]
  },
  {
   "cell_type": "markdown",
   "id": "cc041fe0-a9da-48fb-ab03-dcf6247780de",
   "metadata": {},
   "source": [
    "Solution :"
   ]
  },
  {
   "cell_type": "markdown",
   "id": "660cf186-4f3c-4e0b-b1b2-f5273537ea9f",
   "metadata": {},
   "source": [
    "Eigen-decomposition is a factorization of a matrix into a canonical form in terms of its eigenvalues and eigenvectors. It is particularly useful for analyzing the structure of the data matrix in terms of the eigenvalues and eigenvectors. Eigendecomposition is important in linear algebra and is used in many machine learning algorithms such as PCA and DMD. Certain matrix calculations, like computing the power of the matrix, become much easier when we use the eigendecomposition of the matrix."
   ]
  },
  {
   "cell_type": "code",
   "execution_count": null,
   "id": "86640b3f-e4cb-493f-8049-92e0965e8d9b",
   "metadata": {},
   "outputs": [],
   "source": []
  },
  {
   "cell_type": "code",
   "execution_count": null,
   "id": "7e9dbcdc-603f-4ce0-9e43-5798dda8bdf3",
   "metadata": {},
   "outputs": [],
   "source": []
  },
  {
   "cell_type": "markdown",
   "id": "11a8cd10-4cd0-4e26-834a-38c67918443e",
   "metadata": {},
   "source": [
    "Q3. What are the conditions that must be satisfied for a square matrix to be diagonalizable using the\n",
    "Eigen-Decomposition approach? Provide a brief proof to support your answer."
   ]
  },
  {
   "cell_type": "markdown",
   "id": "b802bcba-d260-40fc-9232-3a83f1fc73f4",
   "metadata": {},
   "source": [
    "Solution :"
   ]
  },
  {
   "cell_type": "markdown",
   "id": "4de126de-6215-481a-95e4-747df1728320",
   "metadata": {},
   "source": [
    "A square matrix is diagonalizable using the Eigen-Decomposition approach if and only if it satisfies the following conditions:\n",
    "\n",
    "* It has n linearly independent eigenvectors.\n",
    "* It has distinct eigenvalues (real or complex).\n",
    "* It is symmetric or Hermitian.\n",
    "* There is an invertible matrix C given by C = [X1 X2 ⋯ Xn] where the Xk are eigenvectors of A.\n",
    "* The corresponding eigenvalues of A are the diagonal entries of the diagonal matrix D."
   ]
  },
  {
   "attachments": {
    "65dea68f-946c-48da-8e74-f4d948fd1536.png": {
     "image/png": "[encoded data removed]"
    }
   },
   "cell_type": "markdown",
   "id": "d8d96c2b-f971-4040-a84f-bc836d7e322f",
   "metadata": {},
   "source": [
    "If and only if A has n linearly independent eigenvectors, then the n×n matrix A is diagonalizable.\n",
    "\n",
    "A=CDC-1 for this example.\n",
    "\n",
    "![image.png](attachment:65dea68f-946c-48da-8e74-f4d948fd1536.png)\n",
    " \n",
    " \n",
    " \n",
    "Here,\n",
    "\n",
    "v1, v2, …, vn are the linearly independent Eigenvectors,\n",
    "\n",
    "λ1, λ2, …λn are the corresponding Eigenvalues."
   ]
  },
  {
   "cell_type": "code",
   "execution_count": null,
   "id": "1194ffc9-64ed-4f59-8e6a-3f51f4cdbc6b",
   "metadata": {},
   "outputs": [],
   "source": []
  },
  {
   "cell_type": "code",
   "execution_count": null,
   "id": "5bb5b1b7-d48a-488d-bb8f-2e1ff9082687",
   "metadata": {},
   "outputs": [],
   "source": []
  },
  {
   "cell_type": "markdown",
   "id": "351f20b9-503a-4a52-a87b-b5d7398ed279",
   "metadata": {},
   "source": [
    "Q4. What is the significance of the spectral theorem in the context of the Eigen-Decomposition approach?\n",
    "How is it related to the diagonalizability of a matrix? Explain with an example."
   ]
  },
  {
   "cell_type": "markdown",
   "id": "74f90d97-8a10-4dde-aaca-b3c6127ec27d",
   "metadata": {},
   "source": [
    "Solution :"
   ]
  },
  {
   "cell_type": "markdown",
   "id": "5fddec81-5046-443e-859d-2f32abb79997",
   "metadata": {},
   "source": [
    "The spectral theorem is an important result of linear algebra that states that for any symmetric matrix, there are exactly (possibly not distinct) eigenvalues, and they are all real. Further, the associated eigenvectors can be chosen so as to form an orthonormal basis. The eigen decomposition theorem states that any symmetric matrix can be reconstructed using its eigenvalues and eigenvectors.\n",
    "\n",
    "The spectral theorem is related to the diagonalizability of a matrix because it provides a way to decompose a matrix into its eigenvalues and eigenvectors. This decomposition is called the spectral decomposition.\n",
    "\n",
    "The spectral theorem tells us that any symmetric matrix can be diagonalized using its eigenvectors and eigenvalues.\n",
    "\n",
    "Here’s an example: Let A be a symmetric matrix given by A = [1 2; 2 4]. We can find its eigenvalues and eigenvectors as follows: det(A - λI) = 0 => det([1-λ 2; 2 4-λ]) = 0 => λ^2 - 5λ = 0 => λ1 = 0, λ2 = 5\n",
    "\n",
    "For λ1 = 0, A - λ1I = [1 2; 2 4] - [0 0; 0 0] = [1 2; 2 4] => x1[1; -2] = [0; 0] => x1 = [2; -1]\n",
    "\n",
    "For λ2 = 5, A - λ2I = [1 2; 2 4] - [5 0; 0 5] = [-4 2; 2 -1] => x2[1; -1/2] = [0; 0] => x2 = [1; 2]\n",
    "\n",
    "Thus, we have P = [x1 x2] = [2 1; -1 2] and D = diag(λ1, λ2) = diag(0,5). Therefore, we can write A as A = PDP^-1 where P^-1 = P^T (since P is orthogonal)."
   ]
  },
  {
   "cell_type": "code",
   "execution_count": null,
   "id": "fec04bcf-f580-4296-b94c-443b54ce360b",
   "metadata": {},
   "outputs": [],
   "source": []
  },
  {
   "cell_type": "code",
   "execution_count": null,
   "id": "edec8eb6-7c75-41d9-b868-b004d8e7ed03",
   "metadata": {},
   "outputs": [],
   "source": []
  },
  {
   "cell_type": "markdown",
   "id": "9e301502-b9c6-4434-a0d4-4ea142ffc5d0",
   "metadata": {},
   "source": [
    "Q5. How do you find the eigenvalues of a matrix and what do they represent?"
   ]
  },
  {
   "cell_type": "markdown",
   "id": "19eb0e1c-54c9-42b2-a599-9a67bff7e66e",
   "metadata": {},
   "source": [
    "Solution :"
   ]
  },
  {
   "cell_type": "markdown",
   "id": "656cfc8e-85b8-4143-90b8-68c0a1a1469e",
   "metadata": {},
   "source": [
    "To find the eigenvalues of a matrix, one needs to solve the characteristic equation |A - λI| = 0, where A is the matrix, λ is the eigenvalue, and I is the identity matrix of the same order as A. The roots of this equation are the eigenvalues of the matrix. The eigenvalues are scalar values that are associated with the system of linear equations or matrix equations. They represent how much a matrix stretches or shrinks a vector when multiplied by it.\n",
    "\n",
    "If an eigenvalue is positive, then the corresponding eigenvector points in the same direction as the original vector. If an eigenvalue is negative, then the corresponding eigenvector points in the opposite direction as the original vector. If an eigenvalue is zero, then the corresponding eigenvector lies in the null space of A.\n",
    "\n",
    "Here’s an example: Let A be a 2x2 matrix given by A = [1 2; 2 4]. We can find its eigenvalues as follows: det(A - λI) = 0 => det([1-λ 2; 2 4-λ]) = 0 => λ^2 - 5λ = 0 => λ1 = 0, λ2 = 5\n",
    "\n",
    "Thus, we have found that the eigenvalues of A are λ1 = 0 and λ2 = 5"
   ]
  },
  {
   "cell_type": "code",
   "execution_count": null,
   "id": "c18d6542-d86e-44ae-9b52-308d1030570b",
   "metadata": {},
   "outputs": [],
   "source": []
  },
  {
   "cell_type": "code",
   "execution_count": null,
   "id": "8a356035-6e00-4967-a9f3-1c3b895ed256",
   "metadata": {},
   "outputs": [],
   "source": []
  },
  {
   "cell_type": "markdown",
   "id": "69706ffe-c993-465f-a064-1cc91cd1b2b6",
   "metadata": {},
   "source": [
    "Q6. What are eigenvectors and how are they related to eigenvalues?"
   ]
  },
  {
   "cell_type": "markdown",
   "id": "edcb13a2-f1aa-4608-8435-4a20299e715a",
   "metadata": {},
   "source": [
    "Solution :"
   ]
  },
  {
   "cell_type": "markdown",
   "id": "07f50cbc-ca49-40a3-87c3-2c686dded848",
   "metadata": {},
   "source": [
    "Eigenvectors are non-zero vectors that when multiplied by a matrix A, result in a scalar multiple of the original vector. In other words, if v is an eigenvector of A with eigenvalue λ, then Av = λv. Eigenvectors are related to eigenvalues because the eigenvalues determine the scalar multiples by which the eigenvectors are stretched or shrunk when multiplied by A. The eigenvectors corresponding to distinct eigenvalues are linearly independent."
   ]
  },
  {
   "cell_type": "code",
   "execution_count": null,
   "id": "357d874b-22a3-4359-a1e6-a5a0adfdc66d",
   "metadata": {},
   "outputs": [],
   "source": []
  },
  {
   "cell_type": "code",
   "execution_count": null,
   "id": "b1b86e1b-4be4-4eb6-bae1-b47ff7f35da0",
   "metadata": {},
   "outputs": [],
   "source": []
  },
  {
   "cell_type": "markdown",
   "id": "f1a89815-906d-417b-be40-edce769b0cba",
   "metadata": {},
   "source": [
    "Q7. Can you explain the geometric interpretation of eigenvectors and eigenvalues?"
   ]
  },
  {
   "cell_type": "markdown",
   "id": "0364b14a-fe43-435e-8fb2-a41413bc2125",
   "metadata": {},
   "source": [
    "Solution :"
   ]
  },
  {
   "cell_type": "markdown",
   "id": "fde5c923-3467-4377-a5ae-8b69e9225953",
   "metadata": {},
   "source": [
    "The geometric interpretation of eigenvectors and eigenvalues is that the eigenvectors represent the directions in which a linear transformation (represented by the matrix A) stretches or shrinks space. The eigenvalues represent the amount of stretching or shrinking that occurs in these directions. Eigenvectors are vectors that maintain their direction under the transformation represented by A, while eigenvalues are scalar values that determine how much the eigenvectors are stretched or shrunk."
   ]
  },
  {
   "cell_type": "code",
   "execution_count": null,
   "id": "e9a55d57-6e66-4d7d-9194-2fa600b0bdfe",
   "metadata": {},
   "outputs": [],
   "source": []
  },
  {
   "cell_type": "code",
   "execution_count": null,
   "id": "5de24d6b-e26d-4bf9-b9e2-0a98eaa3af61",
   "metadata": {},
   "outputs": [],
   "source": []
  },
  {
   "cell_type": "markdown",
   "id": "b75da8a7-3562-4c33-a6d9-d30c5e8abd25",
   "metadata": {},
   "source": [
    "Q8. What are some real-world applications of eigen decomposition?"
   ]
  },
  {
   "cell_type": "markdown",
   "id": "e5e82931-cadd-41c6-b75d-14a914680b32",
   "metadata": {},
   "source": [
    "Solution :"
   ]
  },
  {
   "cell_type": "markdown",
   "id": "afad678f-16c3-43d4-8deb-f69ba445e619",
   "metadata": {},
   "source": [
    "Eigen decomposition has many real-world applications in fields such as physics, engineering, computer science, and economics. Some examples include:\n",
    "\n",
    "* Principal component analysis (PCA) in statistics\n",
    "* Image compression and feature extraction in computer vision\n",
    "* Circuit analysis in electrical engineering\n",
    "* Vibrational analysis in mechanical engineering\n",
    "* Quantum mechanics\n",
    "* Markov chain analysis in economics"
   ]
  },
  {
   "cell_type": "code",
   "execution_count": null,
   "id": "de89e368-4a8a-49a2-a90a-49a030f30beb",
   "metadata": {},
   "outputs": [],
   "source": []
  },
  {
   "cell_type": "code",
   "execution_count": null,
   "id": "7f0b5722-9c69-46f1-900d-8a2aee5e32de",
   "metadata": {},
   "outputs": [],
   "source": []
  },
  {
   "cell_type": "markdown",
   "id": "e6b2b41e-3203-4c3a-a5e7-8b1d889b1cdc",
   "metadata": {},
   "source": [
    "Q9. Can a matrix have more than one set of eigenvectors and eigenvalues?"
   ]
  },
  {
   "cell_type": "markdown",
   "id": "39f4b7b0-6d35-4b0b-8406-61ef15be006c",
   "metadata": {},
   "source": [
    "Solution :"
   ]
  },
  {
   "cell_type": "markdown",
   "id": "b6aafec6-a3df-45b1-8c16-0eb8cfd629a2",
   "metadata": {},
   "source": [
    "Yes, a matrix can have more than one set of eigenvectors and eigenvalues. In fact, a matrix can have infinitely many eigenvectors and eigenvalues."
   ]
  },
  {
   "cell_type": "code",
   "execution_count": null,
   "id": "6f3d44b3-2085-47d1-8443-b25650d39258",
   "metadata": {},
   "outputs": [],
   "source": []
  },
  {
   "cell_type": "code",
   "execution_count": null,
   "id": "39506829-13e3-4441-8c32-2a4bb6706097",
   "metadata": {},
   "outputs": [],
   "source": []
  },
  {
   "cell_type": "markdown",
   "id": "e0de69ab-8b1c-40fa-a611-65fbe46cfa87",
   "metadata": {},
   "source": [
    "Q10. In what ways is the Eigen-Decomposition approach useful in data analysis and machine learning?\n",
    "Discuss at least three specific applications or techniques that rely on Eigen-Decomposition."
   ]
  },
  {
   "cell_type": "markdown",
   "id": "561f5fcf-d9db-4a75-b3d2-5d5fd8d0fdfd",
   "metadata": {},
   "source": [
    "Solution :"
   ]
  },
  {
   "cell_type": "markdown",
   "id": "6c25824f-655e-4dde-8ae2-c1012eabab52",
   "metadata": {},
   "source": [
    "The Eigen-Decomposition approach is useful in data analysis and machine learning because it provides a way to reduce the dimensionality of data while preserving the most important information. Here are three specific applications or techniques that rely on Eigen-Decomposition:\n",
    "\n",
    "Principal component analysis (PCA) - PCA is a technique used to reduce the dimensionality of data by finding the principal components of the data. The principal components are the eigenvectors of the covariance matrix of the data, and they represent the directions in which the data varies the most. By projecting the data onto these directions, we can reduce its dimensionality while preserving most of its variance.\n",
    "\n",
    "Image compression - Eigen-Decomposition can be used to compress images by finding their principal components and discarding those with low variance. This reduces the amount of data needed to represent the image while preserving its most important features.\n",
    "\n",
    "Collaborative filtering - Collaborative filtering is a technique used in recommender systems to predict user preferences based on their past behavior and that of similar users. It relies on Eigen-Decomposition to find the latent factors that explain user preferences and item characteristics."
   ]
  },
  {
   "cell_type": "code",
   "execution_count": null,
   "id": "940374f0-f299-4a56-8c3d-22d209c1b8b8",
   "metadata": {},
   "outputs": [],
   "source": [
    " "
   ]
  }
 ],
 "metadata": {
  "kernelspec": {
   "display_name": "Python 3 (ipykernel)",
   "language": "python",
   "name": "python3"
  },
  "language_info": {
   "codemirror_mode": {
    "name": "ipython",
    "version": 3
   },
   "file_extension": ".py",
   "mimetype": "text/x-python",
   "name": "python",
   "nbconvert_exporter": "python",
   "pygments_lexer": "ipython3",
   "version": "3.10.8"
  }
 },
 "nbformat": 4,
 "nbformat_minor": 5
}
