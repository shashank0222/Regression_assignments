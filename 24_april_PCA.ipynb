{
 "cells": [
  {
   "cell_type": "markdown",
   "id": "0c7786ea-2e06-4334-9f06-a9a13f9d169b",
   "metadata": {},
   "source": [
    "Q1. What is a projection and how is it used in PCA?"
   ]
  },
  {
   "cell_type": "markdown",
   "id": "2df133b4-54ac-4450-a7f9-28688e84ea5b",
   "metadata": {},
   "source": [
    "Solution :"
   ]
  },
  {
   "cell_type": "markdown",
   "id": "92336dc6-3f24-4863-a59b-6bb7d4663580",
   "metadata": {},
   "source": [
    "PCA stands for Principal Component Analysis. It ia a technique used to reduce the dimensionality of data by projecting it onto a lower dimensional space. The projection is done in such a way that the variance of the projected data is maximized. The first Principal Component is a direction in which the data varies the most, and each subsequent principle component is orthogonal to the previous ones and captures as much of the remaining variance as possible.\n",
    "\n",
    "In PCA, projection is used to transform data from high dimensional space to a lower dimensional space. This transformation is done by projecting the data onto a set of orthogonal vectors called principle components.The principal components are chosen in such a way that they capture as much of the variance as possible."
   ]
  },
  {
   "cell_type": "code",
   "execution_count": null,
   "id": "d137822d-e72e-4f2b-a354-3aa06677c095",
   "metadata": {},
   "outputs": [],
   "source": []
  },
  {
   "cell_type": "code",
   "execution_count": null,
   "id": "bf43e011-022b-43fb-836e-aaa8245d4e51",
   "metadata": {},
   "outputs": [],
   "source": []
  },
  {
   "cell_type": "markdown",
   "id": "f5e3dac9-5959-403a-9d1d-b0b3fcb8607a",
   "metadata": {},
   "source": [
    "Q2. How does the optimization problem in PCA work, and what is it trying to achieve?"
   ]
  },
  {
   "cell_type": "markdown",
   "id": "c55866b6-729f-43a1-a776-784761358f0d",
   "metadata": {},
   "source": [
    "Solution :"
   ]
  },
  {
   "cell_type": "markdown",
   "id": "4d1f5635-40ad-4c61-8642-b6c5770ef8e5",
   "metadata": {},
   "source": [
    "The optimization problem in PCA is to find the projection matrix which maximize the variance of the projected data. The projection matrix is chosen such that it maps the original data onto a lower dimensional space while retaining as much of variance as possible. The optimization problem can be formulated as maximizing the trace of the covariance matrix of the projected data subject to constraint that the projection matrix is orthogonal.\n",
    "\n",
    "The solution to this optimization problem is given by the eigen vectors of the covariance matrix corresponding to the largest eigen values."
   ]
  },
  {
   "cell_type": "code",
   "execution_count": null,
   "id": "c2199642-bbb3-480b-b230-cac92cca066c",
   "metadata": {},
   "outputs": [],
   "source": []
  },
  {
   "cell_type": "code",
   "execution_count": null,
   "id": "5f415ff0-da97-439f-a592-c06c21792fdb",
   "metadata": {},
   "outputs": [],
   "source": []
  },
  {
   "cell_type": "markdown",
   "id": "f1862c00-3ad8-4e2d-bc10-93a7fa4544a2",
   "metadata": {},
   "source": [
    "Q3. What is the relationship between covariance matrices and PCA?"
   ]
  },
  {
   "cell_type": "markdown",
   "id": "151106df-6bb1-4dab-aebb-ced2fbca33a1",
   "metadata": {},
   "source": [
    "Solution :"
   ]
  },
  {
   "cell_type": "markdown",
   "id": "a49d6d6a-393b-4da2-a15c-3654699c3dc4",
   "metadata": {},
   "source": [
    "The covariance matrix is a d x d matrix where each element represents the covariance between two features. The classic approach to PCA is to perform eigen decomposition on the covariance matrix . The eigen vectors of the covariance matrix represents the direction of maximum variance in the data, and the corresponding eigen values represent the magnitude of this variance.\n",
    "\n",
    "In other words, PCA is pereformed on the covariance matrix of the data to find the principal components that capture the most variance in the data. The eigen vectors of the covariance matrix are used to define these principal components"
   ]
  },
  {
   "cell_type": "code",
   "execution_count": null,
   "id": "361d3adb-03fd-4602-bf26-c2995667df3f",
   "metadata": {},
   "outputs": [],
   "source": []
  },
  {
   "cell_type": "code",
   "execution_count": null,
   "id": "cdcca15e-a094-4b0a-882f-03f1166bfacb",
   "metadata": {},
   "outputs": [],
   "source": []
  },
  {
   "cell_type": "markdown",
   "id": "900e01d8-6ccd-4462-8259-c49e65292d88",
   "metadata": {},
   "source": [
    "Q4. How does the choice of number of principal components impact the performance of PCA?"
   ]
  },
  {
   "cell_type": "markdown",
   "id": "4a63294f-3f3e-4e21-b022-a81bdc77b241",
   "metadata": {},
   "source": [
    "Solution :"
   ]
  },
  {
   "cell_type": "markdown",
   "id": "33e76b80-05d6-4d53-93c9-0fc3d4eb518a",
   "metadata": {},
   "source": [
    "The choice of the number of principal components to retain in PCA can impact the performance of PCA. If too few principal components are retained, then the resulting lower-dimensional representation of the data may not capture enough of the variance in the original data. On the other hand, if too many principal components are retained, then the resulting lower-dimensional representation may overfit to the noise in the data and not generalize well to new data.\n",
    "\n",
    "The optimal number of principal components to retain depends on the specific dataset and application. One common approach is to choose the number of principal components that capture a certain percentage of the variance in the original data. For example, one might choose to retain enough principal components to capture 95% of the variance in the original data."
   ]
  },
  {
   "cell_type": "code",
   "execution_count": null,
   "id": "56278fb3-a40b-471a-8772-0990f50f9209",
   "metadata": {},
   "outputs": [],
   "source": []
  },
  {
   "cell_type": "code",
   "execution_count": null,
   "id": "b15d693e-73ac-4cdd-bc40-ec0d89cc44e0",
   "metadata": {},
   "outputs": [],
   "source": []
  },
  {
   "cell_type": "markdown",
   "id": "7f1eff5f-5371-4970-86f6-4cb6d078c9f2",
   "metadata": {},
   "source": [
    "Q5. How can PCA be used in feature selection, and what are the benefits of using it for this purpose?"
   ]
  },
  {
   "cell_type": "markdown",
   "id": "4bf1c8c7-6b2d-4b14-9e52-028db5ecc01a",
   "metadata": {},
   "source": [
    "Solution :"
   ]
  },
  {
   "cell_type": "markdown",
   "id": "2942ccc7-3381-414d-99ee-826d9eb6b32f",
   "metadata": {},
   "source": [
    "PCA can be used for feature selection by selecting the principal components that capture the most variance in the data. One way to use PCA for feature selection is to perform PCA on the dataset and define a cut-off of principal components (PCs) to keep. For each remaining PC, multiply the loadings by the proportion of variance explained and take the sum of all absolute loadings.\n",
    "\n",
    "The benefits of using PCA for feature selection include reducing the dimensionality of the data while retaining as much of the variance as possible. This can lead to faster and more accurate machine learning models, especially when dealing with high-dimensional data. Additionally, PCA can help identify which features are most important in the data by examining the loadings of each principal component."
   ]
  },
  {
   "cell_type": "code",
   "execution_count": null,
   "id": "055706d5-0ee7-4159-9eb8-f1ca6203018d",
   "metadata": {},
   "outputs": [],
   "source": []
  },
  {
   "cell_type": "code",
   "execution_count": null,
   "id": "8aa189b2-1e8d-4613-975d-71703ff73930",
   "metadata": {},
   "outputs": [],
   "source": []
  },
  {
   "cell_type": "markdown",
   "id": "fec8ee33-3ae4-4ec2-a432-9d3b2d2e01b1",
   "metadata": {},
   "source": [
    "Q6. What are some common applications of PCA in data science and machine learning?"
   ]
  },
  {
   "cell_type": "markdown",
   "id": "2188780d-8bcf-4ae2-aff2-b7d044eb4245",
   "metadata": {},
   "source": [
    "Solution :"
   ]
  },
  {
   "cell_type": "markdown",
   "id": "4d436ce8-7cc7-45ee-bc6c-5b8bdca0f367",
   "metadata": {},
   "source": [
    "PCA has many applications in data science and machine learning. Some of the most common applications include:\n",
    "\n",
    "* Dimensionality reduction: PCA can be used to reduce the dimensionality of high-dimensional data while retaining as much of the variance as possible.\n",
    "* Data visualization: PCA can be used to visualize high-dimensional data in two or three dimensions.\n",
    "* Feature extraction: PCA can be used to extract features from high-dimensional data that are more informative than the original features.\n",
    "* Noise reduction: PCA can be used to remove noise from high-dimensional data.\n",
    "* Clustering: PCA can be used as a pre-processing step for clustering algorithms.\n",
    "* Classification: PCA can be used as a pre-processing step for classification algorithms."
   ]
  },
  {
   "cell_type": "code",
   "execution_count": null,
   "id": "320b3d61-80b6-4332-968a-1fd3e9c04df3",
   "metadata": {},
   "outputs": [],
   "source": []
  },
  {
   "cell_type": "code",
   "execution_count": null,
   "id": "71ac796f-baac-4044-8eda-f741f41e8840",
   "metadata": {},
   "outputs": [],
   "source": []
  },
  {
   "cell_type": "markdown",
   "id": "b37114e1-ff81-4d73-bd30-293212d1ab75",
   "metadata": {},
   "source": [
    "Q7.What is the relationship between spread and variance in PCA?"
   ]
  },
  {
   "cell_type": "markdown",
   "id": "8d81e4c6-1173-4395-96fc-330e83f03c4e",
   "metadata": {},
   "source": [
    "Solution :"
   ]
  },
  {
   "cell_type": "markdown",
   "id": "67176a36-13cf-4a94-86bb-c8bec5aa21c2",
   "metadata": {},
   "source": [
    "In PCA, spread and variance are related concepts. Spread refers to the extent to which the data is distributed across the different dimensions. Variance is a measure of how much the data varies along each dimension. In PCA, the principal components are chosen in such a way that they capture as much of the variance in the data as possible. The first principal component captures the direction in which the data varies the most, and each subsequent principal component captures as much of the remaining variance as possible."
   ]
  },
  {
   "cell_type": "code",
   "execution_count": null,
   "id": "0d5579a8-1cd6-4a3c-bac8-4d3636ee6afa",
   "metadata": {},
   "outputs": [],
   "source": []
  },
  {
   "cell_type": "code",
   "execution_count": null,
   "id": "c860fc04-cee3-4028-b274-e672dbd42c9f",
   "metadata": {},
   "outputs": [],
   "source": []
  },
  {
   "cell_type": "markdown",
   "id": "7d03c387-dba8-4616-a020-6516f2ee3365",
   "metadata": {},
   "source": [
    "Q8. How does PCA use the spread and variance of the data to identify principal components?"
   ]
  },
  {
   "cell_type": "markdown",
   "id": "0130326d-68b6-44c7-9726-38cb0e3794e8",
   "metadata": {},
   "source": [
    "Solution :"
   ]
  },
  {
   "cell_type": "markdown",
   "id": "b03cf9f2-a484-4807-af01-a7bf2561537c",
   "metadata": {},
   "source": [
    "In PCA, spread and variance are related concepts. Spread refers to the extent to which the data is distributed across the different dimensions. Variance is a measure of how much the data varies along each dimension. In PCA, the principal components are chosen in such a way that they capture as much of the variance in the data as possible. The first principal component captures the direction in which the data varies the most, and each subsequent principal component captures as much of the remaining variance as possible."
   ]
  },
  {
   "cell_type": "code",
   "execution_count": null,
   "id": "e5661609-9cb9-4808-a594-423c517c0a4b",
   "metadata": {},
   "outputs": [],
   "source": []
  },
  {
   "cell_type": "code",
   "execution_count": null,
   "id": "3fffd988-f6d3-4c2f-91ac-f07021cffff7",
   "metadata": {},
   "outputs": [],
   "source": []
  },
  {
   "cell_type": "markdown",
   "id": "e811f7cc-f553-453a-88d4-7051f54a5858",
   "metadata": {},
   "source": [
    "Q9. How does PCA handle data with high variance in some dimensions but low variance in others?"
   ]
  },
  {
   "cell_type": "markdown",
   "id": "28dc7162-276a-4f02-a979-2de18ab6d056",
   "metadata": {},
   "source": [
    "SOlution :"
   ]
  },
  {
   "cell_type": "markdown",
   "id": "dd6dd867-4766-48d8-9619-3e41f76f81a8",
   "metadata": {},
   "source": [
    "PCA handles data with high variance in some dimensions but low variance in others by identifying the directions of maximum variance in the data and projecting the data onto these directions. This allows PCA to capture the most important features of the data while ignoring the less important ones. By doing so, PCA can reduce the dimensionality of the data while retaining as much of the variance as possible."
   ]
  },
  {
   "cell_type": "code",
   "execution_count": null,
   "id": "f25841a9-2fd6-4fa3-a3e4-52d8974acf2c",
   "metadata": {},
   "outputs": [],
   "source": []
  }
 ],
 "metadata": {
  "kernelspec": {
   "display_name": "Python 3 (ipykernel)",
   "language": "python",
   "name": "python3"
  },
  "language_info": {
   "codemirror_mode": {
    "name": "ipython",
    "version": 3
   },
   "file_extension": ".py",
   "mimetype": "text/x-python",
   "name": "python",
   "nbconvert_exporter": "python",
   "pygments_lexer": "ipython3",
   "version": "3.10.8"
  }
 },
 "nbformat": 4,
 "nbformat_minor": 5
}
