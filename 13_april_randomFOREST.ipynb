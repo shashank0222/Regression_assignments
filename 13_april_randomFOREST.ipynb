{
 "cells": [
  {
   "cell_type": "markdown",
   "id": "c4eba98e-f3f6-4918-84b6-d6b5ec59aa26",
   "metadata": {},
   "source": [
    "Q1. What is Random Forest Regressor?"
   ]
  },
  {
   "cell_type": "markdown",
   "id": "715c020b-d41b-4bfd-be1e-19cb9c126338",
   "metadata": {},
   "source": [
    "Solution :"
   ]
  },
  {
   "cell_type": "markdown",
   "id": "5c519dfc-529e-45f6-a6a1-75a8cccc4ddd",
   "metadata": {},
   "source": [
    "Random Forest Regressor is an ensemble learning technique used for regression problems. It is a meta estimator that fits a number of classifying decision trees on various sub-samples of the dataset and uses averaging to improve the predictive accuracy and control over-fitting"
   ]
  },
  {
   "cell_type": "code",
   "execution_count": null,
   "id": "726d2ce0-4e73-4c16-bbef-6313b515d368",
   "metadata": {},
   "outputs": [],
   "source": []
  },
  {
   "cell_type": "code",
   "execution_count": null,
   "id": "8bd2d11d-fa68-479a-bfa1-83c2d412fb6c",
   "metadata": {},
   "outputs": [],
   "source": []
  },
  {
   "cell_type": "markdown",
   "id": "692c51c4-16eb-4f85-8e62-d91cc42a41c9",
   "metadata": {},
   "source": [
    "Q2. How does Random Forest Regressor reduce the risk of overfitting?"
   ]
  },
  {
   "cell_type": "markdown",
   "id": "775ea132-d8d0-4529-b256-d0a36c0bdc32",
   "metadata": {},
   "source": [
    "Solution :"
   ]
  },
  {
   "cell_type": "markdown",
   "id": "87afa89b-938e-4553-bff1-4c0dc33c48be",
   "metadata": {},
   "source": [
    "Random Forest Regressor reduces the risk of overfitting by averaging the predictions of multiple decision trees. Each tree is trained on a random subset of the data and features, which introduces variability and reduces bias. By averaging the trees, the Random Forest Regressor reduces the variance of the model and improves its generalization ability."
   ]
  },
  {
   "cell_type": "code",
   "execution_count": null,
   "id": "c619caa8-6137-4282-942a-cfe8b070c666",
   "metadata": {},
   "outputs": [],
   "source": []
  },
  {
   "cell_type": "code",
   "execution_count": null,
   "id": "09271ad1-06c8-47b3-90fc-0b55970817ba",
   "metadata": {},
   "outputs": [],
   "source": []
  },
  {
   "cell_type": "markdown",
   "id": "d13beb6e-1980-4e34-ad29-68b605bb60a6",
   "metadata": {},
   "source": [
    "Q3. How does Random Forest Regressor aggregate the predictions of multiple decision trees?"
   ]
  },
  {
   "cell_type": "markdown",
   "id": "80512823-0803-4440-b4be-8523bb6bcee1",
   "metadata": {},
   "source": [
    "Solution:"
   ]
  },
  {
   "cell_type": "markdown",
   "id": "86380bf3-b8f9-4461-91bf-b3bdeb5f8441",
   "metadata": {},
   "source": [
    "Random Forest Regressor aggregates the predictions of multiple decision trees by averaging the predictions of each tree. Each tree is created from a different sample of rows and at each node, a different sample of features is selected for splitting. "
   ]
  },
  {
   "cell_type": "code",
   "execution_count": null,
   "id": "b9c9d7f0-b1b5-4059-a677-77e66780b8ac",
   "metadata": {},
   "outputs": [],
   "source": []
  },
  {
   "cell_type": "code",
   "execution_count": null,
   "id": "384bfc88-97b0-4066-a43d-2bd40e5f3a05",
   "metadata": {},
   "outputs": [],
   "source": []
  },
  {
   "cell_type": "markdown",
   "id": "66187f2d-605b-43c6-b36c-79ac456ea0a2",
   "metadata": {},
   "source": [
    "Q4. What are the hyperparameters of Random Forest Regressor?"
   ]
  },
  {
   "cell_type": "markdown",
   "id": "1e8c76fd-3b12-4ac5-aaee-f2fba55e91b4",
   "metadata": {},
   "source": [
    "Solution :"
   ]
  },
  {
   "cell_type": "markdown",
   "id": "e605744e-c468-481d-8da1-ae1a4a8c53f5",
   "metadata": {},
   "source": [
    "The hyperparameters of Random Forest Regressor include the number of trees in the forest, the maximum depth of each tree, and the number of features considered for splitting at each node."
   ]
  },
  {
   "cell_type": "code",
   "execution_count": null,
   "id": "ec5d1227-f00e-43ed-aec5-4cfefbb002a5",
   "metadata": {},
   "outputs": [],
   "source": []
  },
  {
   "cell_type": "code",
   "execution_count": null,
   "id": "0685033a-5976-4909-807d-6401e9c4bc7e",
   "metadata": {},
   "outputs": [],
   "source": []
  },
  {
   "cell_type": "markdown",
   "id": "c6b46c27-178c-40fd-b9a9-7b21a9aa04a5",
   "metadata": {},
   "source": [
    "Q5. What is the difference between Random Forest Regressor and Decision Tree Regressor?"
   ]
  },
  {
   "cell_type": "markdown",
   "id": "78f0efe3-3feb-4535-a197-bf5d9a875c7a",
   "metadata": {},
   "source": [
    "Solution :"
   ]
  },
  {
   "cell_type": "markdown",
   "id": "d6bff525-b254-44ae-9bd2-d20170185f13",
   "metadata": {},
   "source": [
    "The main difference between Random Forest Regressor and Decision Tree Regressor is that Random Forest Regressor is an ensemble learning technique that uses multiple decision trees to make predictions while Decision Tree Regressor is a single decision tree that makes predictions. Random Forest Regressor reduces the risk of overfitting by averaging the predictions of multiple decision trees."
   ]
  },
  {
   "cell_type": "code",
   "execution_count": null,
   "id": "d40cc0b6-708f-4b3f-b507-2c005dd5d07d",
   "metadata": {},
   "outputs": [],
   "source": []
  },
  {
   "cell_type": "code",
   "execution_count": null,
   "id": "fdf2c6d0-679d-4d42-96d1-26bf87935db9",
   "metadata": {},
   "outputs": [],
   "source": []
  },
  {
   "cell_type": "markdown",
   "id": "db2471cd-98bf-44db-8713-7e805c756c5d",
   "metadata": {},
   "source": [
    "Q6. What are the advantages and disadvantages of Random Forest Regressor?"
   ]
  },
  {
   "cell_type": "markdown",
   "id": "41561011-bbaf-43be-9ca9-0c575fb211d3",
   "metadata": {},
   "source": [
    "Solution :"
   ]
  },
  {
   "cell_type": "markdown",
   "id": "cbe8132d-d592-429e-8e77-cb38dea54ee0",
   "metadata": {},
   "source": [
    "The advantages of Random Forest Regressor include its ability to handle large datasets with high dimensionality, its flexibility to both classification and regression problems, and its ability to handle both categorical and continuous values. The disadvantages of Random Forest Regressor include its lack of interpretability and the fact that it can be computationally expensive."
   ]
  },
  {
   "cell_type": "code",
   "execution_count": null,
   "id": "725f69ab-d947-4595-a056-f13eb5436d24",
   "metadata": {},
   "outputs": [],
   "source": []
  },
  {
   "cell_type": "code",
   "execution_count": null,
   "id": "de7a756b-37de-4479-a603-3736ff5ce87e",
   "metadata": {},
   "outputs": [],
   "source": []
  },
  {
   "cell_type": "markdown",
   "id": "8f75a2ba-c824-4881-8c24-60decdb6e9c9",
   "metadata": {},
   "source": [
    "Q7. What is the output of Random Forest Regressor?"
   ]
  },
  {
   "cell_type": "markdown",
   "id": "1616ab8a-1e07-4c9a-81fa-5a09555f0eb8",
   "metadata": {},
   "source": [
    "Solution :"
   ]
  },
  {
   "cell_type": "markdown",
   "id": "d6e3c336-b750-4ce3-8a49-78f804b349cf",
   "metadata": {},
   "source": [
    "The output of Random Forest Regressor is the mean or average prediction of the individual trees in regression tasks."
   ]
  },
  {
   "cell_type": "code",
   "execution_count": null,
   "id": "bda18a99-f2d8-4ab9-86fd-91cf06d9ac8d",
   "metadata": {},
   "outputs": [],
   "source": []
  },
  {
   "cell_type": "code",
   "execution_count": null,
   "id": "ecf836a5-7ef2-4a36-8278-2d2e403d66f7",
   "metadata": {},
   "outputs": [],
   "source": []
  },
  {
   "cell_type": "markdown",
   "id": "e8e14ef8-fd92-4734-a6da-52b8c41d499d",
   "metadata": {},
   "source": [
    "Q8. Can Random Forest Regressor be used for classification tasks?"
   ]
  },
  {
   "cell_type": "markdown",
   "id": "8e9f4d26-c436-424e-94ba-22ec22b6192c",
   "metadata": {},
   "source": [
    "Solution :"
   ]
  },
  {
   "cell_type": "markdown",
   "id": "a18e7f74-30d0-4130-bef9-0785c8b852c5",
   "metadata": {},
   "source": [
    "Random Forest Regressor can be used for classification tasks as well as regression tasks."
   ]
  },
  {
   "cell_type": "code",
   "execution_count": null,
   "id": "04af1a99-37ec-4570-b375-c7149df0d244",
   "metadata": {},
   "outputs": [],
   "source": []
  }
 ],
 "metadata": {
  "kernelspec": {
   "display_name": "Python 3 (ipykernel)",
   "language": "python",
   "name": "python3"
  },
  "language_info": {
   "codemirror_mode": {
    "name": "ipython",
    "version": 3
   },
   "file_extension": ".py",
   "mimetype": "text/x-python",
   "name": "python",
   "nbconvert_exporter": "python",
   "pygments_lexer": "ipython3",
   "version": "3.10.8"
  }
 },
 "nbformat": 4,
 "nbformat_minor": 5
}
